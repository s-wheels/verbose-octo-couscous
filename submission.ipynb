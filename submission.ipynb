{
 "cells": [
  {
   "cell_type": "code",
   "execution_count": 39,
   "metadata": {},
   "outputs": [],
   "source": [
    "from Bio import SeqIO\n",
    "import pandas as pd\n",
    "import seaborn as sns\n",
    "\n",
    "from sklearn.model_selection import train_test_split\n",
    "\n",
    "from torch.utils.data import Dataset\n",
    "import torch"
   ]
  },
  {
   "cell_type": "code",
   "execution_count": 2,
   "metadata": {},
   "outputs": [],
   "source": [
    "from transformers import TrainingArguments, Trainer, DataCollatorWithPadding"
   ]
  },
  {
   "cell_type": "code",
   "execution_count": 86,
   "metadata": {},
   "outputs": [
    {
     "name": "stderr",
     "output_type": "stream",
     "text": [
      "loading configuration file https://huggingface.co/lightonai/RITA_s/resolve/main/config.json from cache at /Users/maia/.cache/huggingface/transformers/36175bb600af61a7b34fc92d3e2511016a2ffce591c699fa57e43827a2751720.062cec24332a9b831bfb86a7aca88f74a7cf234dd8ea182800473c491780b606\n",
      "Explicitly passing a `revision` is encouraged when loading a configuration with custom code to ensure no malicious code has been contributed in a newer revision.\n",
      "loading configuration file https://huggingface.co/lightonai/RITA_s/resolve/main/config.json from cache at /Users/maia/.cache/huggingface/transformers/36175bb600af61a7b34fc92d3e2511016a2ffce591c699fa57e43827a2751720.062cec24332a9b831bfb86a7aca88f74a7cf234dd8ea182800473c491780b606\n",
      "Model config RITAConfig {\n",
      "  \"_name_or_path\": \"lightonai/RITA_s\",\n",
      "  \"architectures\": [\n",
      "    \"RITAModelForCausalLM\"\n",
      "  ],\n",
      "  \"auto_map\": {\n",
      "    \"AutoConfig\": \"rita_configuration.RITAConfig\",\n",
      "    \"AutoModel\": \"rita_modeling.RITAModel\",\n",
      "    \"AutoModelForCausalLM\": \"rita_modeling.RITAModelForCausalLM\",\n",
      "    \"AutoModelForSequenceClassification\": \"rita_modeling.RITAModelForSequenceClassification\"\n",
      "  },\n",
      "  \"d_feedforward\": 3072,\n",
      "  \"d_model\": 768,\n",
      "  \"dropout\": 0.0,\n",
      "  \"eos_token_id\": 2,\n",
      "  \"id2label\": {\n",
      "    \"0\": \"LABEL_0\",\n",
      "    \"1\": \"LABEL_1\",\n",
      "    \"2\": \"LABEL_2\",\n",
      "    \"3\": \"LABEL_3\",\n",
      "    \"4\": \"LABEL_4\",\n",
      "    \"5\": \"LABEL_5\",\n",
      "    \"6\": \"LABEL_6\",\n",
      "    \"7\": \"LABEL_7\",\n",
      "    \"8\": \"LABEL_8\",\n",
      "    \"9\": \"LABEL_9\",\n",
      "    \"10\": \"LABEL_10\",\n",
      "    \"11\": \"LABEL_11\",\n",
      "    \"12\": \"LABEL_12\",\n",
      "    \"13\": \"LABEL_13\",\n",
      "    \"14\": \"LABEL_14\",\n",
      "    \"15\": \"LABEL_15\",\n",
      "    \"16\": \"LABEL_16\",\n",
      "    \"17\": \"LABEL_17\",\n",
      "    \"18\": \"LABEL_18\",\n",
      "    \"19\": \"LABEL_19\",\n",
      "    \"20\": \"LABEL_20\",\n",
      "    \"21\": \"LABEL_21\",\n",
      "    \"22\": \"LABEL_22\",\n",
      "    \"23\": \"LABEL_23\",\n",
      "    \"24\": \"LABEL_24\",\n",
      "    \"25\": \"LABEL_25\",\n",
      "    \"26\": \"LABEL_26\"\n",
      "  },\n",
      "  \"initializer_range\": 0.02,\n",
      "  \"label2id\": {\n",
      "    \"LABEL_0\": 0,\n",
      "    \"LABEL_1\": 1,\n",
      "    \"LABEL_10\": 10,\n",
      "    \"LABEL_11\": 11,\n",
      "    \"LABEL_12\": 12,\n",
      "    \"LABEL_13\": 13,\n",
      "    \"LABEL_14\": 14,\n",
      "    \"LABEL_15\": 15,\n",
      "    \"LABEL_16\": 16,\n",
      "    \"LABEL_17\": 17,\n",
      "    \"LABEL_18\": 18,\n",
      "    \"LABEL_19\": 19,\n",
      "    \"LABEL_2\": 2,\n",
      "    \"LABEL_20\": 20,\n",
      "    \"LABEL_21\": 21,\n",
      "    \"LABEL_22\": 22,\n",
      "    \"LABEL_23\": 23,\n",
      "    \"LABEL_24\": 24,\n",
      "    \"LABEL_25\": 25,\n",
      "    \"LABEL_26\": 26,\n",
      "    \"LABEL_3\": 3,\n",
      "    \"LABEL_4\": 4,\n",
      "    \"LABEL_5\": 5,\n",
      "    \"LABEL_6\": 6,\n",
      "    \"LABEL_7\": 7,\n",
      "    \"LABEL_8\": 8,\n",
      "    \"LABEL_9\": 9\n",
      "  },\n",
      "  \"max_seq_len\": 1024,\n",
      "  \"model_type\": \"rita\",\n",
      "  \"num_heads\": 12,\n",
      "  \"num_layers\": 12,\n",
      "  \"torch_dtype\": \"float16\",\n",
      "  \"transformers_version\": \"4.20.1\",\n",
      "  \"vocab_size\": 26\n",
      "}\n",
      "\n",
      "Explicitly passing a `revision` is encouraged when loading a model with custom code to ensure no malicious code has been contributed in a newer revision.\n",
      "loading weights file https://huggingface.co/lightonai/RITA_s/resolve/main/pytorch_model.bin from cache at /Users/maia/.cache/huggingface/transformers/cc5fb8338a40384249a432ed2cae6d2cdea3d9d639102a9308d487d283046059.90b045291d01a3ecd1e7e5b034d1daa7b5442f568cd6eb670f4c4e7c522c348b\n",
      "All model checkpoint weights were used when initializing RITAModelForCausalLM.\n",
      "\n",
      "All the weights of RITAModelForCausalLM were initialized from the model checkpoint at lightonai/RITA_s.\n",
      "If your task is similar to the task the model of the checkpoint was trained on, you can already use RITAModelForCausalLM for predictions without further training.\n",
      "loading file https://huggingface.co/lightonai/RITA_s/resolve/main/tokenizer.json from cache at /Users/maia/.cache/huggingface/transformers/865e13b3e3619bf81de973416c2704f8c603c81b0d98fa1cee0804f76de7abfa.baa7c198887ac13f3cc484561eb339b721df90ee08c24f2fd2e8453a3f24a0e6\n",
      "loading file https://huggingface.co/lightonai/RITA_s/resolve/main/added_tokens.json from cache at None\n",
      "loading file https://huggingface.co/lightonai/RITA_s/resolve/main/special_tokens_map.json from cache at /Users/maia/.cache/huggingface/transformers/1a37d8923e326225df60039df95ed996f3d4ab2ee2c03cb023bed0cf8ec2f1fd.5cc6e825eb228a7a5cfd27cb4d7151e97a79fb962b31aaf1813aa102e746584b\n",
      "loading file https://huggingface.co/lightonai/RITA_s/resolve/main/tokenizer_config.json from cache at /Users/maia/.cache/huggingface/transformers/5304688f551159b3f4881ed08887e097b633d7ae482796e51b78f7a5b8aeae02.3ede947a2e06d05a228d78128c9a9220dbe2846dc4462f70877e26c82fe3295f\n"
     ]
    }
   ],
   "source": [
    "from transformers import AutoModel, AutoModelForCausalLM, AutoTokenizer\n",
    "model = AutoModelForCausalLM.from_pretrained(\"lightonai/RITA_s\", trust_remote_code=True, num_labels=27)\n",
    "tokenizer = AutoTokenizer.from_pretrained(\"lightonai/RITA_s\")\n",
    "tokenizer.pad_token_id = 1\n",
    "\n",
    "model.config.vocab_size = 27\n",
    "\n",
    "# # Tokens for creating the decoder_input_ids from the labels\n",
    "# model.config.decoder_start_token_id = tokenizer.cls_token_id\n",
    "# model.config.pad_token_id = tokenizer.pad_token_id"
   ]
  },
  {
   "cell_type": "markdown",
   "metadata": {},
   "source": [
    "## Data Processing"
   ]
  },
  {
   "cell_type": "code",
   "execution_count": 87,
   "metadata": {},
   "outputs": [],
   "source": [
    "def load_data(raw_data: str = 'Sequences.fasta', labelled: bool = True) -> pd.DataFrame:\n",
    "    if labelled:\n",
    "        labelled_sequences = [{\n",
    "                    'ID' : i.id,\n",
    "                    'Group_ID' : i.id.split('_')[0],\n",
    "                    'Number_ID' : i.id.split('_')[1],\n",
    "                    'Sequence Length' : len(i.seq),\n",
    "                    'Sequence' : i.seq\n",
    "                    }\n",
    "                    for i in SeqIO.parse(raw_data, 'fasta')]\n",
    "        print(f'Number of labelled sequences: {len(labelled_sequences)}')\n",
    "        return pd.DataFrame(labelled_sequences)\n",
    "    else:\n",
    "        pred_sequences = [{'ID' : i.id,\n",
    "                    'Sequence Length' : len(i.seq),\n",
    "                        'Sequence' : i.seq}\n",
    "                        for i in SeqIO.parse(raw_data, 'fasta')]\n",
    "        print(f'Number of pred sequences: {len(pred_sequences)}')\n",
    "        return pd.DataFrame(pred_sequences)\n",
    "\n",
    "def create_dataset_split(data_df: pd.DataFrame) -> tuple[pd.DataFrame, pd.DataFrame]:\n",
    "    # Splitting dataset, any class with <3 instances added to train_df\n",
    "    filtered_df = data_df[data_df['Group_ID'].isin(['A','B','C'])]\n",
    "    train_df, eval_df = train_test_split(filtered_df, shuffle=True, stratify=filtered_df['Group_ID'])\n",
    "    train_df = pd.concat([train_df, data_df[~data_df['Group_ID'].isin(['A','B','C'])]])\n",
    "    print(f'Train Dataset Size: {len(train_df)}, Eval Dataset Size: {len(eval_df)}')\n",
    "    return train_df, eval_df"
   ]
  },
  {
   "cell_type": "code",
   "execution_count": 88,
   "metadata": {},
   "outputs": [
    {
     "name": "stdout",
     "output_type": "stream",
     "text": [
      "Number of labelled sequences: 1000\n",
      "Train Dataset Size: 756, Eval Dataset Size: 244\n",
      "Number of pred sequences: 10\n"
     ]
    }
   ],
   "source": [
    "labelled_df = load_data('Sequences.fasta', labelled=True)\n",
    "train_df, eval_df = create_dataset_split(labelled_df)\n",
    "pred_df = load_data('Predictions.fasta', labelled=False)"
   ]
  },
  {
   "cell_type": "code",
   "execution_count": 111,
   "metadata": {},
   "outputs": [],
   "source": [
    "class ProteinDataset(Dataset):\n",
    "\n",
    "    def __init__(self, data_df: pd.DataFrame, tokenizer,\n",
    "                 mode: str = 'train', labelled: bool = True):\n",
    "        self.data_df = data_df\n",
    "        self.tokenizer = tokenizer\n",
    "        self.mode = mode        \n",
    "        self.labelled = labelled\n",
    "        self.max_sequence_length = self.data_df[\"Sequence Length\"].max()\n",
    "        self.mean_sequence_length = self.data_df[\"Sequence Length\"].mean()\n",
    "        self.preprocess()\n",
    "\n",
    "    def summarise_data(self) -> None:\n",
    "        if self.labelled:\n",
    "            print(self.data_df['Group_ID'].value_counts())\n",
    "        print(f'Mean Sequence Length: {self.mean_sequence_length}')\n",
    "        print(f'Max Sequence Length: {self.max_sequence_length}')\n",
    "        if self.labelled:\n",
    "            print(f'Number of Protein Groups: {self.data_df[\"Group_ID\"].nunique()}')\n",
    "        sns.histplot(self.data_df['Sequence Length'])\n",
    "        \n",
    "    def _preprocess_function(self, sample):\n",
    "        return self.tokenizer(str(sample), padding='max_length',\n",
    "                              max_length=self.max_sequence_length,\n",
    "                              truncation=True)['input_ids']\n",
    "\n",
    "    def preprocess(self):\n",
    "        self.data_df['input_ids'] = self.data_df['Sequence'].apply(self._preprocess_function)\n",
    "\n",
    "    def __len__(self) -> int:\n",
    "        return len(self.data_df)\n",
    "\n",
    "    def __getitem__(self, idx: int) -> dict:\n",
    "        sample = self.data_df.iloc[idx]\n",
    "        tokens = self.tokenizer(str(sample['Sequence']), padding='max_length',\n",
    "                                max_length=self.max_sequence_length)\n",
    "\n",
    "        tokens = {key: torch.reshape(torch.IntTensor(item), (-1,1))\n",
    "                  for key, item in tokens.items()}\n",
    "        \n",
    "        # if self.labelled:\n",
    "        #     return {\n",
    "        #             'labels' : sample['Group_ID'],\n",
    "        #             'input_ids' : tokens['input_ids']\n",
    "        #             }\n",
    "        # else:\n",
    "        #     return {\n",
    "        #             'input_ids' : tokens['input_ids']\n",
    "        #             }  \n",
    "\n",
    "        if self.labelled:\n",
    "            return {\n",
    "                    'labels' : sample['Group_ID'],\n",
    "                    **tokens\n",
    "                    }\n",
    "        else:\n",
    "            return {\n",
    "                    **tokens\n",
    "                    }  \n",
    "        # PAD tokens are ignored by the loss function\n",
    "        # labels = [\n",
    "        #     label if label != self.processor.tokenizer.pad_token_id else -100\n",
    "        #     for label in labels\n",
    "        # ]\n",
    "        # if self.labelled:\n",
    "        #     return {'mode' : self.mode,\n",
    "        #             'labels' : sample['Group_ID'],\n",
    "        #             'input_ids' : self.tokenizer(str(sample['Sequence']),\n",
    "        #                                          padding=\"max_length\",\n",
    "        #                                          max_length=self.max_target_length)\n",
    "        #             }\n",
    "        # else:\n",
    "        #     return {'mode' : self.mode,\n",
    "        #             'input_ids' : self.tokenizer(str(sample['Sequence']),\n",
    "        #                                          padding=\"max_length\",\n",
    "        #                                          max_length=self.max_target_length)\n",
    "        #             }       \n",
    "                    \n",
    "        # if self.labelled:\n",
    "        #     return {'mode' : self.mode,\n",
    "        #             'labels' : sample['Group_ID'],\n",
    "        #             'input_ids' : sample['input_ids']}\n",
    "        # else:\n",
    "        #     return {'mode' : self.mode,\n",
    "        #             'input_ids' : sample['input_ids']}"
   ]
  },
  {
   "cell_type": "code",
   "execution_count": 112,
   "metadata": {},
   "outputs": [],
   "source": [
    "train_dataset = ProteinDataset(data_df=train_df, tokenizer=tokenizer, mode='train', labelled=True)\n",
    "eval_dataset = ProteinDataset(data_df=eval_df, tokenizer=tokenizer, mode='eval', labelled=True)\n",
    "pred_dataset = ProteinDataset(data_df=pred_df, tokenizer=tokenizer, mode='pred', labelled=False)\n"
   ]
  },
  {
   "cell_type": "markdown",
   "metadata": {},
   "source": [
    "## Data Exploration\n",
    "\n",
    "### Protein Groups\n",
    "\n",
    "| Protein Group   |      Sequences      |\n",
    "|----------|:-------------:|\n",
    "| A |  683 |\n",
    "| B |  193 |\n",
    "| C | 99 |\n",
    "| Other (single instances) | 22 |\n",
    "\n",
    "\n",
    "### Sequences\n",
    "\n",
    "#### Labelled\n",
    "- Mean sequence length: 220.426\n",
    "- Max sequence length: 422 (<512 so viable as pretrained transformer input)\n",
    "\n",
    "#### Prediction\n",
    "- Mean: 183.2\n",
    "- Max: 277"
   ]
  },
  {
   "cell_type": "code",
   "execution_count": 113,
   "metadata": {},
   "outputs": [
    {
     "name": "stdout",
     "output_type": "stream",
     "text": [
      "Mean Sequence Length: 183.2\n",
      "Max Sequence Length: 277\n"
     ]
    },
    {
     "data": {
      "image/png": "[encoded data removed]",
      "text/plain": [
       "<Figure size 432x288 with 1 Axes>"
      ]
     },
     "metadata": {
      "needs_background": "light"
     },
     "output_type": "display_data"
    }
   ],
   "source": [
    "pred_dataset.summarise_data()"
   ]
  },
  {
   "cell_type": "code",
   "execution_count": 114,
   "metadata": {},
   "outputs": [
    {
     "name": "stdout",
     "output_type": "stream",
     "text": [
      "A    171\n",
      "C     48\n",
      "B     25\n",
      "Name: Group_ID, dtype: int64\n",
      "Mean Sequence Length: 216.1516393442623\n",
      "Max Sequence Length: 371\n",
      "Number of Protein Groups: 3\n"
     ]
    },
    {
     "data": {
      "image/png": "[encoded data removed]",
      "text/plain": [
       "<Figure size 432x288 with 1 Axes>"
      ]
     },
     "metadata": {
      "needs_background": "light"
     },
     "output_type": "display_data"
    }
   ],
   "source": [
    "eval_dataset.summarise_data()"
   ]
  },
  {
   "cell_type": "code",
   "execution_count": 115,
   "metadata": {},
   "outputs": [
    {
     "name": "stdout",
     "output_type": "stream",
     "text": [
      "A        512\n",
      "C        145\n",
      "B         74\n",
      "P          2\n",
      "PT         1\n",
      "CE         1\n",
      "CC         1\n",
      "L          1\n",
      "D          1\n",
      "HHHH       1\n",
      "U          1\n",
      "AA         1\n",
      "F          1\n",
      "G          1\n",
      "ttttt      1\n",
      "AD         1\n",
      "ADD        1\n",
      "M          1\n",
      "II         1\n",
      "LL         1\n",
      "A)         1\n",
      "A***8      1\n",
      "AC         1\n",
      "AV         1\n",
      "T          1\n",
      "IA         1\n",
      "O          1\n",
      "Name: Group_ID, dtype: int64\n",
      "Mean Sequence Length: 221.80555555555554\n",
      "Max Sequence Length: 422\n",
      "Number of Protein Groups: 27\n"
     ]
    },
    {
     "data": {
      "image/png": "[encoded data removed]",
      "text/plain": [
       "<Figure size 432x288 with 1 Axes>"
      ]
     },
     "metadata": {
      "needs_background": "light"
     },
     "output_type": "display_data"
    }
   ],
   "source": [
    "train_dataset.summarise_data()"
   ]
  },
  {
   "cell_type": "markdown",
   "metadata": {},
   "source": [
    "## Model\n",
    "\n",
    "Selected pretrained model from HuggingFace.\n",
    "\n",
    "Paper is in preprint https://arxiv.org/abs/2205.05789 [1]\n",
    "\n",
    "Small version has 1/3 parameters of the current most popular HuggingFace model.\n",
    "\n",
    "Given time constraints a smaller model is a big pro!\n",
    "\n",
    "[1] RITA: a Study on Scaling Up Generative Protein Sequence Models. Hesslow et al., 2022.\n"
   ]
  },
  {
   "cell_type": "code",
   "execution_count": 116,
   "metadata": {},
   "outputs": [
    {
     "name": "stderr",
     "output_type": "stream",
     "text": [
      "PyTorch: setting up devices\n",
      "The default value for the training argument `--report_to` will change in v5 (from all installed integrations to none). In v5, you will need to use `--report_to all` to get the same behavior as now. You should start updating your code and make this info disappear :-).\n"
     ]
    }
   ],
   "source": [
    "\n",
    "data_collator = DataCollatorWithPadding(tokenizer=tokenizer)\n",
    "\n",
    "training_args = TrainingArguments(\n",
    "    output_dir=\"./results\",\n",
    "    learning_rate=2e-5,\n",
    "    per_device_train_batch_size=8,\n",
    "    per_device_eval_batch_size=8,\n",
    "    num_train_epochs=1,\n",
    "    weight_decay=0.01,\n",
    ")\n",
    "\n",
    "trainer = Trainer(\n",
    "    model=model,\n",
    "    args=training_args,\n",
    "    train_dataset=train_dataset,\n",
    "    eval_dataset=eval_dataset,\n",
    ")"
   ]
  },
  {
   "cell_type": "code",
   "execution_count": 117,
   "metadata": {},
   "outputs": [
    {
     "data": {
      "text/plain": [
       "CausalLMOutput(loss=None, logits=tensor([[[-16.6796, -16.6797,  -3.0574,  ..., -16.6796, -16.6796, -16.6794]],\n",
       "\n",
       "        [[-16.6618, -16.6620,  -3.0461,  ..., -16.6618, -16.6619, -16.6617]],\n",
       "\n",
       "        [[-16.6138, -16.6140,  -3.0733,  ..., -16.6138, -16.6138, -16.6136]],\n",
       "\n",
       "        ...,\n",
       "\n",
       "        [[-16.5405, -16.5407,  -3.1410,  ..., -16.5406, -16.5406, -16.5404]],\n",
       "\n",
       "        [[-16.4934, -16.4936,  -3.0502,  ..., -16.4935, -16.4935, -16.4933]],\n",
       "\n",
       "        [[-16.2706, -16.2708,  -3.0160,  ..., -16.2707, -16.2707, -16.2705]]],\n",
       "       grad_fn=<UnsafeViewBackward0>), hidden_states=tensor([[[-0.0213,  0.1430, -0.0275,  ..., -0.1657, -0.0290, -0.0518]],\n",
       "\n",
       "        [[-0.0189,  0.1432, -0.0178,  ..., -0.1628, -0.0263, -0.0539]],\n",
       "\n",
       "        [[-0.0155,  0.1426, -0.0254,  ..., -0.1609, -0.0255, -0.0485]],\n",
       "\n",
       "        ...,\n",
       "\n",
       "        [[-0.0208,  0.1413, -0.0219,  ..., -0.1990,  0.0070, -0.0576]],\n",
       "\n",
       "        [[-0.0164,  0.1468, -0.0291,  ..., -0.1890, -0.0067, -0.0563]],\n",
       "\n",
       "        [[-0.0124,  0.1422, -0.0207,  ..., -0.1782, -0.0096, -0.0613]]],\n",
       "       grad_fn=<NativeLayerNormBackward0>), attentions=None)"
      ]
     },
     "execution_count": 117,
     "metadata": {},
     "output_type": "execute_result"
    }
   ],
   "source": [
    "# Test forward pass\n",
    "# model.forward(input_ids=train_dataset[0]['input_ids'],\n",
    "#               token_type_ids=train_dataset[0]['token_type_ids'],\n",
    "#               attention_mask=train_dataset[0]['attention_mask'])\n",
    "model.forward(input_ids=train_dataset[0]['input_ids'])"
   ]
  },
  {
   "cell_type": "code",
   "execution_count": 120,
   "metadata": {},
   "outputs": [
    {
     "data": {
      "text/plain": [
       "dict_keys(['labels', 'input_ids'])"
      ]
     },
     "execution_count": 120,
     "metadata": {},
     "output_type": "execute_result"
    }
   ],
   "source": [
    "train_dataset[0]"
   ]
  },
  {
   "cell_type": "code",
   "execution_count": 118,
   "metadata": {},
   "outputs": [
    {
     "name": "stderr",
     "output_type": "stream",
     "text": [
      "/Users/maia/miniforge3/lib/python3.9/site-packages/transformers/optimization.py:306: FutureWarning: This implementation of AdamW is deprecated and will be removed in a future version. Use the PyTorch implementation torch.optim.AdamW instead, or set `no_deprecation_warning=True` to disable this warning\n",
      "  warnings.warn(\n",
      "***** Running training *****\n",
      "  Num examples = 756\n",
      "  Num Epochs = 1\n",
      "  Instantaneous batch size per device = 8\n",
      "  Total train batch size (w. parallel, distributed & accumulation) = 8\n",
      "  Gradient Accumulation steps = 1\n",
      "  Total optimization steps = 95\n"
     ]
    },
    {
     "data": {
      "application/vnd.jupyter.widget-view+json": {
       "model_id": "dfeab42db80e442692420a7fa42e94ad",
       "version_major": 2,
       "version_minor": 0
      },
      "text/plain": [
       "  0%|          | 0/95 [00:00<?, ?it/s]"
      ]
     },
     "metadata": {},
     "output_type": "display_data"
    },
    {
     "ename": "ValueError",
     "evalue": "too many values to unpack (expected 3)",
     "output_type": "error",
     "traceback": [
      "\u001b[0;31m---------------------------------------------------------------------------\u001b[0m",
      "\u001b[0;31mValueError\u001b[0m                                Traceback (most recent call last)",
      "\u001b[1;32m/Users/maia/Documents/GitHub/professional/job_take_homes/basecamp_research/submission.ipynb Cell 16\u001b[0m in \u001b[0;36m<cell line: 1>\u001b[0;34m()\u001b[0m\n\u001b[0;32m----> <a href='vscode-notebook-cell:/Users/maia/Documents/GitHub/professional/job_take_homes/basecamp_research/submission.ipynb#ch0000075?line=0'>1</a>\u001b[0m trainer\u001b[39m.\u001b[39;49mtrain()\n",
      "File \u001b[0;32m~/miniforge3/lib/python3.9/site-packages/transformers/trainer.py:1409\u001b[0m, in \u001b[0;36mTrainer.train\u001b[0;34m(self, resume_from_checkpoint, trial, ignore_keys_for_eval, **kwargs)\u001b[0m\n\u001b[1;32m   1404\u001b[0m     \u001b[39mself\u001b[39m\u001b[39m.\u001b[39mmodel_wrapped \u001b[39m=\u001b[39m \u001b[39mself\u001b[39m\u001b[39m.\u001b[39mmodel\n\u001b[1;32m   1406\u001b[0m inner_training_loop \u001b[39m=\u001b[39m find_executable_batch_size(\n\u001b[1;32m   1407\u001b[0m     \u001b[39mself\u001b[39m\u001b[39m.\u001b[39m_inner_training_loop, \u001b[39mself\u001b[39m\u001b[39m.\u001b[39m_train_batch_size, args\u001b[39m.\u001b[39mauto_find_batch_size\n\u001b[1;32m   1408\u001b[0m )\n\u001b[0;32m-> 1409\u001b[0m \u001b[39mreturn\u001b[39;00m inner_training_loop(\n\u001b[1;32m   1410\u001b[0m     args\u001b[39m=\u001b[39;49margs,\n\u001b[1;32m   1411\u001b[0m     resume_from_checkpoint\u001b[39m=\u001b[39;49mresume_from_checkpoint,\n\u001b[1;32m   1412\u001b[0m     trial\u001b[39m=\u001b[39;49mtrial,\n\u001b[1;32m   1413\u001b[0m     ignore_keys_for_eval\u001b[39m=\u001b[39;49mignore_keys_for_eval,\n\u001b[1;32m   1414\u001b[0m )\n",
      "File \u001b[0;32m~/miniforge3/lib/python3.9/site-packages/transformers/trainer.py:1651\u001b[0m, in \u001b[0;36mTrainer._inner_training_loop\u001b[0;34m(self, batch_size, args, resume_from_checkpoint, trial, ignore_keys_for_eval)\u001b[0m\n\u001b[1;32m   1649\u001b[0m         tr_loss_step \u001b[39m=\u001b[39m \u001b[39mself\u001b[39m\u001b[39m.\u001b[39mtraining_step(model, inputs)\n\u001b[1;32m   1650\u001b[0m \u001b[39melse\u001b[39;00m:\n\u001b[0;32m-> 1651\u001b[0m     tr_loss_step \u001b[39m=\u001b[39m \u001b[39mself\u001b[39;49m\u001b[39m.\u001b[39;49mtraining_step(model, inputs)\n\u001b[1;32m   1653\u001b[0m \u001b[39mif\u001b[39;00m (\n\u001b[1;32m   1654\u001b[0m     args\u001b[39m.\u001b[39mlogging_nan_inf_filter\n\u001b[1;32m   1655\u001b[0m     \u001b[39mand\u001b[39;00m \u001b[39mnot\u001b[39;00m is_torch_tpu_available()\n\u001b[1;32m   1656\u001b[0m     \u001b[39mand\u001b[39;00m (torch\u001b[39m.\u001b[39misnan(tr_loss_step) \u001b[39mor\u001b[39;00m torch\u001b[39m.\u001b[39misinf(tr_loss_step))\n\u001b[1;32m   1657\u001b[0m ):\n\u001b[1;32m   1658\u001b[0m     \u001b[39m# if loss is nan or inf simply add the average of previous logged losses\u001b[39;00m\n\u001b[1;32m   1659\u001b[0m     tr_loss \u001b[39m+\u001b[39m\u001b[39m=\u001b[39m tr_loss \u001b[39m/\u001b[39m (\u001b[39m1\u001b[39m \u001b[39m+\u001b[39m \u001b[39mself\u001b[39m\u001b[39m.\u001b[39mstate\u001b[39m.\u001b[39mglobal_step \u001b[39m-\u001b[39m \u001b[39mself\u001b[39m\u001b[39m.\u001b[39m_globalstep_last_logged)\n",
      "File \u001b[0;32m~/miniforge3/lib/python3.9/site-packages/transformers/trainer.py:2345\u001b[0m, in \u001b[0;36mTrainer.training_step\u001b[0;34m(self, model, inputs)\u001b[0m\n\u001b[1;32m   2342\u001b[0m     \u001b[39mreturn\u001b[39;00m loss_mb\u001b[39m.\u001b[39mreduce_mean()\u001b[39m.\u001b[39mdetach()\u001b[39m.\u001b[39mto(\u001b[39mself\u001b[39m\u001b[39m.\u001b[39margs\u001b[39m.\u001b[39mdevice)\n\u001b[1;32m   2344\u001b[0m \u001b[39mwith\u001b[39;00m \u001b[39mself\u001b[39m\u001b[39m.\u001b[39mcompute_loss_context_manager():\n\u001b[0;32m-> 2345\u001b[0m     loss \u001b[39m=\u001b[39m \u001b[39mself\u001b[39;49m\u001b[39m.\u001b[39;49mcompute_loss(model, inputs)\n\u001b[1;32m   2347\u001b[0m \u001b[39mif\u001b[39;00m \u001b[39mself\u001b[39m\u001b[39m.\u001b[39margs\u001b[39m.\u001b[39mn_gpu \u001b[39m>\u001b[39m \u001b[39m1\u001b[39m:\n\u001b[1;32m   2348\u001b[0m     loss \u001b[39m=\u001b[39m loss\u001b[39m.\u001b[39mmean()  \u001b[39m# mean() to average on multi-gpu parallel training\u001b[39;00m\n",
      "File \u001b[0;32m~/miniforge3/lib/python3.9/site-packages/transformers/trainer.py:2377\u001b[0m, in \u001b[0;36mTrainer.compute_loss\u001b[0;34m(self, model, inputs, return_outputs)\u001b[0m\n\u001b[1;32m   2375\u001b[0m \u001b[39melse\u001b[39;00m:\n\u001b[1;32m   2376\u001b[0m     labels \u001b[39m=\u001b[39m \u001b[39mNone\u001b[39;00m\n\u001b[0;32m-> 2377\u001b[0m outputs \u001b[39m=\u001b[39m model(\u001b[39m*\u001b[39;49m\u001b[39m*\u001b[39;49minputs)\n\u001b[1;32m   2378\u001b[0m \u001b[39m# Save past state if it exists\u001b[39;00m\n\u001b[1;32m   2379\u001b[0m \u001b[39m# TODO: this needs to be fixed and made cleaner later.\u001b[39;00m\n\u001b[1;32m   2380\u001b[0m \u001b[39mif\u001b[39;00m \u001b[39mself\u001b[39m\u001b[39m.\u001b[39margs\u001b[39m.\u001b[39mpast_index \u001b[39m>\u001b[39m\u001b[39m=\u001b[39m \u001b[39m0\u001b[39m:\n",
      "File \u001b[0;32m~/miniforge3/lib/python3.9/site-packages/torch/nn/modules/module.py:1110\u001b[0m, in \u001b[0;36mModule._call_impl\u001b[0;34m(self, *input, **kwargs)\u001b[0m\n\u001b[1;32m   1106\u001b[0m \u001b[39m# If we don't have any hooks, we want to skip the rest of the logic in\u001b[39;00m\n\u001b[1;32m   1107\u001b[0m \u001b[39m# this function, and just call forward.\u001b[39;00m\n\u001b[1;32m   1108\u001b[0m \u001b[39mif\u001b[39;00m \u001b[39mnot\u001b[39;00m (\u001b[39mself\u001b[39m\u001b[39m.\u001b[39m_backward_hooks \u001b[39mor\u001b[39;00m \u001b[39mself\u001b[39m\u001b[39m.\u001b[39m_forward_hooks \u001b[39mor\u001b[39;00m \u001b[39mself\u001b[39m\u001b[39m.\u001b[39m_forward_pre_hooks \u001b[39mor\u001b[39;00m _global_backward_hooks\n\u001b[1;32m   1109\u001b[0m         \u001b[39mor\u001b[39;00m _global_forward_hooks \u001b[39mor\u001b[39;00m _global_forward_pre_hooks):\n\u001b[0;32m-> 1110\u001b[0m     \u001b[39mreturn\u001b[39;00m forward_call(\u001b[39m*\u001b[39;49m\u001b[39minput\u001b[39;49m, \u001b[39m*\u001b[39;49m\u001b[39m*\u001b[39;49mkwargs)\n\u001b[1;32m   1111\u001b[0m \u001b[39m# Do not call functions when jit is used\u001b[39;00m\n\u001b[1;32m   1112\u001b[0m full_backward_hooks, non_full_backward_hooks \u001b[39m=\u001b[39m [], []\n",
      "File \u001b[0;32m~/.cache/huggingface/modules/transformers_modules/lightonai/RITA_s/fced662eadd2b7099a3b92a88365dfc3c98eb3da/rita_modeling.py:312\u001b[0m, in \u001b[0;36mRITAModelForCausalLM.forward\u001b[0;34m(self, input_ids, past_key_values, attention_mask, causal_mask, token_type_ids, position_ids, head_mask, inputs_embeds, encoder_hidden_states, encoder_causal_mask, labels, use_cache, output_attentions, output_hidden_states, return_dict)\u001b[0m\n\u001b[1;32m    293\u001b[0m \u001b[39mdef\u001b[39;00m \u001b[39mforward\u001b[39m(\n\u001b[1;32m    294\u001b[0m     \u001b[39mself\u001b[39m,\n\u001b[1;32m    295\u001b[0m     input_ids\u001b[39m=\u001b[39m\u001b[39mNone\u001b[39;00m,\n\u001b[0;32m   (...)\u001b[0m\n\u001b[1;32m    309\u001b[0m     return_dict\u001b[39m=\u001b[39m\u001b[39mNone\u001b[39;00m \u001b[39m# NOT USED\u001b[39;00m\n\u001b[1;32m    310\u001b[0m     ) \u001b[39m-\u001b[39m\u001b[39m>\u001b[39m torch\u001b[39m.\u001b[39mFloatTensor:\n\u001b[0;32m--> 312\u001b[0m     transformer_outputs \u001b[39m=\u001b[39m \u001b[39mself\u001b[39;49m\u001b[39m.\u001b[39;49mtransformer(\n\u001b[1;32m    313\u001b[0m         input_ids,\n\u001b[1;32m    314\u001b[0m         past_key_values\u001b[39m=\u001b[39;49mpast_key_values,\n\u001b[1;32m    315\u001b[0m         causal_mask\u001b[39m=\u001b[39;49mcausal_mask,\n\u001b[1;32m    316\u001b[0m         attention_mask \u001b[39m=\u001b[39;49m attention_mask,\n\u001b[1;32m    317\u001b[0m         token_type_ids\u001b[39m=\u001b[39;49mtoken_type_ids,\n\u001b[1;32m    318\u001b[0m         position_ids\u001b[39m=\u001b[39;49mposition_ids,\n\u001b[1;32m    319\u001b[0m         head_mask\u001b[39m=\u001b[39;49mhead_mask,\n\u001b[1;32m    320\u001b[0m         inputs_embeds\u001b[39m=\u001b[39;49minputs_embeds,\n\u001b[1;32m    321\u001b[0m         use_cache\u001b[39m=\u001b[39;49muse_cache,\n\u001b[1;32m    322\u001b[0m         output_attentions\u001b[39m=\u001b[39;49moutput_attentions,\n\u001b[1;32m    323\u001b[0m         output_hidden_states\u001b[39m=\u001b[39;49moutput_hidden_states,\n\u001b[1;32m    324\u001b[0m         return_dict\u001b[39m=\u001b[39;49mreturn_dict,\n\u001b[1;32m    325\u001b[0m     )\n\u001b[1;32m    327\u001b[0m     logits \u001b[39m=\u001b[39m \u001b[39mself\u001b[39m\u001b[39m.\u001b[39mlm_head(transformer_outputs\u001b[39m.\u001b[39mhidden_states)\n\u001b[1;32m    328\u001b[0m     loss \u001b[39m=\u001b[39m \u001b[39mNone\u001b[39;00m\n",
      "File \u001b[0;32m~/miniforge3/lib/python3.9/site-packages/torch/nn/modules/module.py:1110\u001b[0m, in \u001b[0;36mModule._call_impl\u001b[0;34m(self, *input, **kwargs)\u001b[0m\n\u001b[1;32m   1106\u001b[0m \u001b[39m# If we don't have any hooks, we want to skip the rest of the logic in\u001b[39;00m\n\u001b[1;32m   1107\u001b[0m \u001b[39m# this function, and just call forward.\u001b[39;00m\n\u001b[1;32m   1108\u001b[0m \u001b[39mif\u001b[39;00m \u001b[39mnot\u001b[39;00m (\u001b[39mself\u001b[39m\u001b[39m.\u001b[39m_backward_hooks \u001b[39mor\u001b[39;00m \u001b[39mself\u001b[39m\u001b[39m.\u001b[39m_forward_hooks \u001b[39mor\u001b[39;00m \u001b[39mself\u001b[39m\u001b[39m.\u001b[39m_forward_pre_hooks \u001b[39mor\u001b[39;00m _global_backward_hooks\n\u001b[1;32m   1109\u001b[0m         \u001b[39mor\u001b[39;00m _global_forward_hooks \u001b[39mor\u001b[39;00m _global_forward_pre_hooks):\n\u001b[0;32m-> 1110\u001b[0m     \u001b[39mreturn\u001b[39;00m forward_call(\u001b[39m*\u001b[39;49m\u001b[39minput\u001b[39;49m, \u001b[39m*\u001b[39;49m\u001b[39m*\u001b[39;49mkwargs)\n\u001b[1;32m   1111\u001b[0m \u001b[39m# Do not call functions when jit is used\u001b[39;00m\n\u001b[1;32m   1112\u001b[0m full_backward_hooks, non_full_backward_hooks \u001b[39m=\u001b[39m [], []\n",
      "File \u001b[0;32m~/.cache/huggingface/modules/transformers_modules/lightonai/RITA_s/fced662eadd2b7099a3b92a88365dfc3c98eb3da/rita_modeling.py:251\u001b[0m, in \u001b[0;36mRITAModel.forward\u001b[0;34m(self, input_ids, past_key_values, attention_mask, causal_mask, token_type_ids, position_ids, head_mask, inputs_embeds, encoder_hidden_states, encoder_causal_mask, labels, use_cache, output_attentions, output_hidden_states, return_dict)\u001b[0m\n\u001b[1;32m    249\u001b[0m     causal_mask \u001b[39m=\u001b[39m (torch\u001b[39m.\u001b[39mtriu(torch\u001b[39m.\u001b[39mones(input_ids\u001b[39m.\u001b[39msize(\u001b[39m1\u001b[39m), input_ids\u001b[39m.\u001b[39msize(\u001b[39m1\u001b[39m))) \u001b[39m==\u001b[39m \u001b[39m0\u001b[39m)\u001b[39m.\u001b[39mtranspose(\u001b[39m0\u001b[39m, \u001b[39m1\u001b[39m)\u001b[39m.\u001b[39mcontiguous()\u001b[39m.\u001b[39mto(input_ids\u001b[39m.\u001b[39mdevice)\n\u001b[1;32m    250\u001b[0m \u001b[39mfor\u001b[39;00m layer \u001b[39min\u001b[39;00m \u001b[39mself\u001b[39m\u001b[39m.\u001b[39mlayers:\n\u001b[0;32m--> 251\u001b[0m     x \u001b[39m=\u001b[39m layer(x, causal_mask\u001b[39m=\u001b[39;49mcausal_mask, attention_mask\u001b[39m=\u001b[39;49mattention_mask)\n\u001b[1;32m    252\u001b[0m x \u001b[39m=\u001b[39m \u001b[39mself\u001b[39m\u001b[39m.\u001b[39mfinal_norm(x)  \u001b[39m# N x L x D\u001b[39;00m\n\u001b[1;32m    254\u001b[0m \u001b[39mreturn\u001b[39;00m BaseModelOutput(\n\u001b[1;32m    255\u001b[0m     hidden_states\u001b[39m=\u001b[39mx,\n\u001b[1;32m    256\u001b[0m )\n",
      "File \u001b[0;32m~/miniforge3/lib/python3.9/site-packages/torch/nn/modules/module.py:1110\u001b[0m, in \u001b[0;36mModule._call_impl\u001b[0;34m(self, *input, **kwargs)\u001b[0m\n\u001b[1;32m   1106\u001b[0m \u001b[39m# If we don't have any hooks, we want to skip the rest of the logic in\u001b[39;00m\n\u001b[1;32m   1107\u001b[0m \u001b[39m# this function, and just call forward.\u001b[39;00m\n\u001b[1;32m   1108\u001b[0m \u001b[39mif\u001b[39;00m \u001b[39mnot\u001b[39;00m (\u001b[39mself\u001b[39m\u001b[39m.\u001b[39m_backward_hooks \u001b[39mor\u001b[39;00m \u001b[39mself\u001b[39m\u001b[39m.\u001b[39m_forward_hooks \u001b[39mor\u001b[39;00m \u001b[39mself\u001b[39m\u001b[39m.\u001b[39m_forward_pre_hooks \u001b[39mor\u001b[39;00m _global_backward_hooks\n\u001b[1;32m   1109\u001b[0m         \u001b[39mor\u001b[39;00m _global_forward_hooks \u001b[39mor\u001b[39;00m _global_forward_pre_hooks):\n\u001b[0;32m-> 1110\u001b[0m     \u001b[39mreturn\u001b[39;00m forward_call(\u001b[39m*\u001b[39;49m\u001b[39minput\u001b[39;49m, \u001b[39m*\u001b[39;49m\u001b[39m*\u001b[39;49mkwargs)\n\u001b[1;32m   1111\u001b[0m \u001b[39m# Do not call functions when jit is used\u001b[39;00m\n\u001b[1;32m   1112\u001b[0m full_backward_hooks, non_full_backward_hooks \u001b[39m=\u001b[39m [], []\n",
      "File \u001b[0;32m~/.cache/huggingface/modules/transformers_modules/lightonai/RITA_s/fced662eadd2b7099a3b92a88365dfc3c98eb3da/rita_modeling.py:204\u001b[0m, in \u001b[0;36mDecoderLayer.forward\u001b[0;34m(self, x, causal_mask, attention_mask)\u001b[0m\n\u001b[1;32m    197\u001b[0m \u001b[39mdef\u001b[39;00m \u001b[39mforward\u001b[39m(\n\u001b[1;32m    198\u001b[0m     \u001b[39mself\u001b[39m,\n\u001b[1;32m    199\u001b[0m     x: torch\u001b[39m.\u001b[39mFloatTensor,\n\u001b[1;32m    200\u001b[0m     causal_mask: torch\u001b[39m.\u001b[39mBoolTensor,\n\u001b[1;32m    201\u001b[0m     attention_mask: Optional[torch\u001b[39m.\u001b[39mBoolTensor] \u001b[39m=\u001b[39m \u001b[39mNone\u001b[39;00m,\n\u001b[1;32m    202\u001b[0m ) \u001b[39m-\u001b[39m\u001b[39m>\u001b[39m torch\u001b[39m.\u001b[39mFloatTensor:\n\u001b[1;32m    203\u001b[0m     y \u001b[39m=\u001b[39m \u001b[39mself\u001b[39m\u001b[39m.\u001b[39mattn_norm(x)\n\u001b[0;32m--> 204\u001b[0m     y \u001b[39m=\u001b[39m \u001b[39mself\u001b[39;49m\u001b[39m.\u001b[39;49mself_attention(y, causal_mask\u001b[39m=\u001b[39;49mcausal_mask, attention_mask\u001b[39m=\u001b[39;49mattention_mask)\n\u001b[1;32m    205\u001b[0m     x \u001b[39m=\u001b[39m x \u001b[39m+\u001b[39m \u001b[39mself\u001b[39m\u001b[39m.\u001b[39mattn_dropout(y)\n\u001b[1;32m    207\u001b[0m     y \u001b[39m=\u001b[39m \u001b[39mself\u001b[39m\u001b[39m.\u001b[39mmlp_norm(x)\n",
      "File \u001b[0;32m~/miniforge3/lib/python3.9/site-packages/torch/nn/modules/module.py:1110\u001b[0m, in \u001b[0;36mModule._call_impl\u001b[0;34m(self, *input, **kwargs)\u001b[0m\n\u001b[1;32m   1106\u001b[0m \u001b[39m# If we don't have any hooks, we want to skip the rest of the logic in\u001b[39;00m\n\u001b[1;32m   1107\u001b[0m \u001b[39m# this function, and just call forward.\u001b[39;00m\n\u001b[1;32m   1108\u001b[0m \u001b[39mif\u001b[39;00m \u001b[39mnot\u001b[39;00m (\u001b[39mself\u001b[39m\u001b[39m.\u001b[39m_backward_hooks \u001b[39mor\u001b[39;00m \u001b[39mself\u001b[39m\u001b[39m.\u001b[39m_forward_hooks \u001b[39mor\u001b[39;00m \u001b[39mself\u001b[39m\u001b[39m.\u001b[39m_forward_pre_hooks \u001b[39mor\u001b[39;00m _global_backward_hooks\n\u001b[1;32m   1109\u001b[0m         \u001b[39mor\u001b[39;00m _global_forward_hooks \u001b[39mor\u001b[39;00m _global_forward_pre_hooks):\n\u001b[0;32m-> 1110\u001b[0m     \u001b[39mreturn\u001b[39;00m forward_call(\u001b[39m*\u001b[39;49m\u001b[39minput\u001b[39;49m, \u001b[39m*\u001b[39;49m\u001b[39m*\u001b[39;49mkwargs)\n\u001b[1;32m   1111\u001b[0m \u001b[39m# Do not call functions when jit is used\u001b[39;00m\n\u001b[1;32m   1112\u001b[0m full_backward_hooks, non_full_backward_hooks \u001b[39m=\u001b[39m [], []\n",
      "File \u001b[0;32m~/.cache/huggingface/modules/transformers_modules/lightonai/RITA_s/fced662eadd2b7099a3b92a88365dfc3c98eb3da/rita_modeling.py:136\u001b[0m, in \u001b[0;36mSelfAttention.forward\u001b[0;34m(self, x, causal_mask, attention_mask)\u001b[0m\n\u001b[1;32m    129\u001b[0m \u001b[39mdef\u001b[39;00m \u001b[39mforward\u001b[39m(\n\u001b[1;32m    130\u001b[0m     \u001b[39mself\u001b[39m,\n\u001b[1;32m    131\u001b[0m     x,\n\u001b[1;32m    132\u001b[0m     causal_mask: Optional[torch\u001b[39m.\u001b[39mBoolTensor] \u001b[39m=\u001b[39m \u001b[39mNone\u001b[39;00m,\n\u001b[1;32m    133\u001b[0m     attention_mask: Optional[torch\u001b[39m.\u001b[39mBoolTensor] \u001b[39m=\u001b[39m \u001b[39mNone\u001b[39;00m,\n\u001b[1;32m    134\u001b[0m ) \u001b[39m-\u001b[39m\u001b[39m>\u001b[39m Tuple[torch\u001b[39m.\u001b[39mFloatTensor, torch\u001b[39m.\u001b[39mFloatTensor]:\n\u001b[0;32m--> 136\u001b[0m     N, L, D \u001b[39m=\u001b[39m x\u001b[39m.\u001b[39msize()  \u001b[39m# Batch_size, Context_size, d_model\u001b[39;00m\n\u001b[1;32m    138\u001b[0m     \u001b[39m# calculate query, key, values for all heads in batch and move head forward to be the batch dim\u001b[39;00m\n\u001b[1;32m    139\u001b[0m     k \u001b[39m=\u001b[39m (\n\u001b[1;32m    140\u001b[0m         \u001b[39mself\u001b[39m\u001b[39m.\u001b[39mkey(x)\u001b[39m.\u001b[39mview(N, L, \u001b[39mself\u001b[39m\u001b[39m.\u001b[39mnum_heads, D \u001b[39m/\u001b[39m\u001b[39m/\u001b[39m \u001b[39mself\u001b[39m\u001b[39m.\u001b[39mnum_heads)\u001b[39m.\u001b[39mtranspose(\u001b[39m1\u001b[39m, \u001b[39m2\u001b[39m)\n\u001b[1;32m    141\u001b[0m     )  \u001b[39m# (N, nh, L, hs)\u001b[39;00m\n",
      "\u001b[0;31mValueError\u001b[0m: too many values to unpack (expected 3)"
     ]
    }
   ],
   "source": [
    "trainer.train()"
   ]
  },
  {
   "cell_type": "code",
   "execution_count": null,
   "metadata": {},
   "outputs": [],
   "source": [
    "\n",
    "\n",
    "# Vocab size is the number of integers 0-9\n",
    "model.config.vocab_size = 10\n",
    "training_args = Seq2SeqTrainingArguments(\n",
    "    predict_with_generate=True,\n",
    "    evaluation_strategy=\"steps\",\n",
    "    per_device_train_batch_size=8,\n",
    "    per_device_eval_batch_size=8,\n",
    "    output_dir=\"results/\",\n",
    "    logging_steps=2,\n",
    "    save_steps=1000,\n",
    "    num_train_epochs=2,\n",
    "    eval_steps=200,\n",
    ")\n",
    "### HUGGING FACE\n",
    "\n",
    "metric = load_metric(\"accuracy\")\n",
    "\n",
    "def compute_metrics(eval_pred):\n",
    "    logits, labels = eval_pred\n",
    "    predictions = np.argmax(logits, axis=-1)\n",
    "    return metric.compute(predictions=predictions, references=labels)\n",
    "trainer = Seq2SeqTrainer(\n",
    "    model=model,\n",
    "    tokenizer=processor.feature_extractor,\n",
    "    args=training_args,\n",
    "    compute_metrics=compute_metrics,\n",
    "    train_dataset=train_dataset,\n",
    "    eval_dataset=test_dataset,\n",
    "    data_collator=default_data_collator,\n",
    ")\n",
    "trainer.train()"
   ]
  }
 ],
 "metadata": {
  "kernelspec": {
   "display_name": "Python 3.9.13 ('base')",
   "language": "python",
   "name": "python3"
  },
  "language_info": {
   "codemirror_mode": {
    "name": "ipython",
    "version": 3
   },
   "file_extension": ".py",
   "mimetype": "text/x-python",
   "name": "python",
   "nbconvert_exporter": "python",
   "pygments_lexer": "ipython3",
   "version": "3.9.13"
  },
  "orig_nbformat": 4,
  "vscode": {
   "interpreter": {
    "hash": "2fc0ea5a1e9e76f4e43521cfbf8502dc34ed22083c8204b9bca502883f1d045c"
   }
  }
 },
 "nbformat": 4,
 "nbformat_minor": 2
}
