{
 "cells": [
  {
   "cell_type": "code",
   "execution_count": 147,
   "metadata": {},
   "outputs": [],
   "source": [
    "from Bio import SeqIO\n",
    "import pandas as pd\n",
    "import seaborn as sns\n",
    "\n",
    "from sklearn.model_selection import train_test_split\n",
    "\n",
    "from torch.utils.data import Dataset"
   ]
  },
  {
   "cell_type": "markdown",
   "metadata": {},
   "source": [
    "## Data Processing"
   ]
  },
  {
   "cell_type": "code",
   "execution_count": 152,
   "metadata": {},
   "outputs": [],
   "source": [
    "labelled_dataset = ProteinDataset()"
   ]
  },
  {
   "cell_type": "code",
   "execution_count": 153,
   "metadata": {},
   "outputs": [
    {
     "ename": "AttributeError",
     "evalue": "'ProteinDataset' object has no attribute 'data_df'",
     "output_type": "error",
     "traceback": [
      "\u001b[0;31m---------------------------------------------------------------------------\u001b[0m",
      "\u001b[0;31mAttributeError\u001b[0m                            Traceback (most recent call last)",
      "\u001b[1;32m/Users/maia/Documents/GitHub/professional/job_take_homes/basecamp_research/submission.ipynb Cell 4\u001b[0m in \u001b[0;36m<cell line: 1>\u001b[0;34m()\u001b[0m\n\u001b[0;32m----> <a href='vscode-notebook-cell:/Users/maia/Documents/GitHub/professional/job_take_homes/basecamp_research/submission.ipynb#ch0000046?line=0'>1</a>\u001b[0m labelled_dataset\u001b[39m.\u001b[39;49mdata_df\n",
      "\u001b[0;31mAttributeError\u001b[0m: 'ProteinDataset' object has no attribute 'data_df'"
     ]
    }
   ],
   "source": [
    "labelled_dataset.data_df"
   ]
  },
  {
   "cell_type": "markdown",
   "metadata": {},
   "source": [
    "## Data Exploration\n",
    "\n",
    "### Protein Groups\n",
    "\n",
    "| Protein Group   |      Sequences      |\n",
    "|----------|:-------------:|\n",
    "| A |  683 |\n",
    "| B |  193 |\n",
    "| C | 99 |\n",
    "| Other (single instances) | 22 |\n",
    "\n",
    "\n",
    "### Sequences\n",
    "\n",
    "#### Labelled\n",
    "- Mean sequence length: 220.426\n",
    "- Max sequence length: 422 (<512 so viable as pretrained transformer input)\n",
    "\n",
    "#### Prediction\n",
    "- Mean: 183.2\n",
    "- Max: 277"
   ]
  },
  {
   "cell_type": "code",
   "execution_count": 131,
   "metadata": {},
   "outputs": [
    {
     "name": "stdout",
     "output_type": "stream",
     "text": [
      "Mean Sequence Length: 183.2\n",
      "Max Sequence Length: 277\n"
     ]
    },
    {
     "data": {
      "text/plain": [
       "<AxesSubplot:xlabel='Sequence Length', ylabel='Count'>"
      ]
     },
     "execution_count": 131,
     "metadata": {},
     "output_type": "execute_result"
    },
    {
     "data": {
      "image/png": "[encoded data removed]",
      "text/plain": [
       "<Figure size 432x288 with 1 Axes>"
      ]
     },
     "metadata": {
      "needs_background": "light"
     },
     "output_type": "display_data"
    }
   ],
   "source": [
    "print(f'Mean Sequence Length: {pred_df[\"Sequence Length\"].mean()}')\n",
    "print(f'Max Sequence Length: {pred_df[\"Sequence Length\"].max()}')\n",
    "sns.histplot(pred_df['Sequence Length'])"
   ]
  },
  {
   "cell_type": "code",
   "execution_count": 132,
   "metadata": {},
   "outputs": [
    {
     "name": "stdout",
     "output_type": "stream",
     "text": [
      "Mean Sequence Length: 220.426\n",
      "Max Sequence Length: 422\n"
     ]
    },
    {
     "data": {
      "text/plain": [
       "<AxesSubplot:xlabel='Sequence Length', ylabel='Count'>"
      ]
     },
     "execution_count": 132,
     "metadata": {},
     "output_type": "execute_result"
    },
    {
     "data": {
      "image/png": "[encoded data removed]",
      "text/plain": [
       "<Figure size 432x288 with 1 Axes>"
      ]
     },
     "metadata": {
      "needs_background": "light"
     },
     "output_type": "display_data"
    }
   ],
   "source": [
    "print(f'Mean Sequence Length: {labelled_df[\"Sequence Length\"].mean()}')\n",
    "print(f'Max Sequence Length: {labelled_df[\"Sequence Length\"].max()}')\n",
    "sns.histplot(labelled_df['Sequence Length'])"
   ]
  },
  {
   "cell_type": "code",
   "execution_count": 142,
   "metadata": {},
   "outputs": [
    {
     "data": {
      "text/plain": [
       "A        683\n",
       "C        193\n",
       "B         99\n",
       "P          2\n",
       "ttttt      1\n",
       "CE         1\n",
       "CC         1\n",
       "L          1\n",
       "D          1\n",
       "HHHH       1\n",
       "U          1\n",
       "AA         1\n",
       "F          1\n",
       "G          1\n",
       "PT         1\n",
       "IA         1\n",
       "ADD        1\n",
       "AD         1\n",
       "M          1\n",
       "II         1\n",
       "LL         1\n",
       "A)         1\n",
       "A***8      1\n",
       "AC         1\n",
       "AV         1\n",
       "T          1\n",
       "O          1\n",
       "Name: Group_ID, dtype: int64"
      ]
     },
     "execution_count": 142,
     "metadata": {},
     "output_type": "execute_result"
    }
   ],
   "source": [
    "labelled_df['Group_ID'].value_counts()"
   ]
  },
  {
   "cell_type": "code",
   "execution_count": 145,
   "metadata": {},
   "outputs": [],
   "source": []
  },
  {
   "cell_type": "code",
   "execution_count": 146,
   "metadata": {},
   "outputs": [
    {
     "data": {
      "text/html": [
       "<div>\n",
       "<style scoped>\n",
       "    .dataframe tbody tr th:only-of-type {\n",
       "        vertical-align: middle;\n",
       "    }\n",
       "\n",
       "    .dataframe tbody tr th {\n",
       "        vertical-align: top;\n",
       "    }\n",
       "\n",
       "    .dataframe thead th {\n",
       "        text-align: right;\n",
       "    }\n",
       "</style>\n",
       "<table border=\"1\" class=\"dataframe\">\n",
       "  <thead>\n",
       "    <tr style=\"text-align: right;\">\n",
       "      <th></th>\n",
       "      <th>ID</th>\n",
       "      <th>Group_ID</th>\n",
       "      <th>Number_ID</th>\n",
       "      <th>Sequence Length</th>\n",
       "      <th>Sequence</th>\n",
       "    </tr>\n",
       "  </thead>\n",
       "  <tbody>\n",
       "    <tr>\n",
       "      <th>834</th>\n",
       "      <td>C_035</td>\n",
       "      <td>C</td>\n",
       "      <td>035</td>\n",
       "      <td>272</td>\n",
       "      <td>(T, G, S, G, V, V, V, D, G, A, G, Y, I, V, T, ...</td>\n",
       "    </tr>\n",
       "    <tr>\n",
       "      <th>506</th>\n",
       "      <td>A_507</td>\n",
       "      <td>A</td>\n",
       "      <td>507</td>\n",
       "      <td>233</td>\n",
       "      <td>(I, A, N, G, Q, K, A, G, T, N, E, F, P, F, M, ...</td>\n",
       "    </tr>\n",
       "    <tr>\n",
       "      <th>636</th>\n",
       "      <td>A_637</td>\n",
       "      <td>A</td>\n",
       "      <td>637</td>\n",
       "      <td>223</td>\n",
       "      <td>(I, V, G, G, Y, T, C, S, E, Y, S, V, P, Y, Q, ...</td>\n",
       "    </tr>\n",
       "    <tr>\n",
       "      <th>794</th>\n",
       "      <td>B_095</td>\n",
       "      <td>B</td>\n",
       "      <td>095</td>\n",
       "      <td>192</td>\n",
       "      <td>(G, S, G, V, I, Y, K, K, N, G, N, T, A, Y, I, ...</td>\n",
       "    </tr>\n",
       "    <tr>\n",
       "      <th>989</th>\n",
       "      <td>C_190</td>\n",
       "      <td>C</td>\n",
       "      <td>190</td>\n",
       "      <td>158</td>\n",
       "      <td>(G, S, G, V, I, I, S, S, D, G, Y, V, V, T, N, ...</td>\n",
       "    </tr>\n",
       "    <tr>\n",
       "      <th>...</th>\n",
       "      <td>...</td>\n",
       "      <td>...</td>\n",
       "      <td>...</td>\n",
       "      <td>...</td>\n",
       "      <td>...</td>\n",
       "    </tr>\n",
       "    <tr>\n",
       "      <th>839</th>\n",
       "      <td>P_040</td>\n",
       "      <td>P</td>\n",
       "      <td>040</td>\n",
       "      <td>279</td>\n",
       "      <td>(L, G, S, G, I, V, F, D, D, K, G, H, V, V, T, ...</td>\n",
       "    </tr>\n",
       "    <tr>\n",
       "      <th>863</th>\n",
       "      <td>L_064</td>\n",
       "      <td>L</td>\n",
       "      <td>064</td>\n",
       "      <td>182</td>\n",
       "      <td>(P, F, G, F, P, F, P, F, P, D, G, G, E, A, P, ...</td>\n",
       "    </tr>\n",
       "    <tr>\n",
       "      <th>891</th>\n",
       "      <td>CC_092</td>\n",
       "      <td>CC</td>\n",
       "      <td>092</td>\n",
       "      <td>152</td>\n",
       "      <td>(G, T, G, F, A, V, S, P, D, L, I, V, T, N, A, ...</td>\n",
       "    </tr>\n",
       "    <tr>\n",
       "      <th>943</th>\n",
       "      <td>CE_144</td>\n",
       "      <td>CE</td>\n",
       "      <td>144</td>\n",
       "      <td>262</td>\n",
       "      <td>(Q, G, C, G, V, I, I, T, P, T, G, Y, V, L, T, ...</td>\n",
       "    </tr>\n",
       "    <tr>\n",
       "      <th>999</th>\n",
       "      <td>O_200</td>\n",
       "      <td>O</td>\n",
       "      <td>200</td>\n",
       "      <td>154</td>\n",
       "      <td>(G, S, G, F, I, V, D, T, A, G, V, V, V, T, N, ...</td>\n",
       "    </tr>\n",
       "  </tbody>\n",
       "</table>\n",
       "<p>756 rows × 5 columns</p>\n",
       "</div>"
      ],
      "text/plain": [
       "         ID Group_ID Number_ID  Sequence Length  \\\n",
       "834   C_035        C       035              272   \n",
       "506   A_507        A       507              233   \n",
       "636   A_637        A       637              223   \n",
       "794   B_095        B       095              192   \n",
       "989   C_190        C       190              158   \n",
       "..      ...      ...       ...              ...   \n",
       "839   P_040        P       040              279   \n",
       "863   L_064        L       064              182   \n",
       "891  CC_092       CC       092              152   \n",
       "943  CE_144       CE       144              262   \n",
       "999   O_200        O       200              154   \n",
       "\n",
       "                                              Sequence  \n",
       "834  (T, G, S, G, V, V, V, D, G, A, G, Y, I, V, T, ...  \n",
       "506  (I, A, N, G, Q, K, A, G, T, N, E, F, P, F, M, ...  \n",
       "636  (I, V, G, G, Y, T, C, S, E, Y, S, V, P, Y, Q, ...  \n",
       "794  (G, S, G, V, I, Y, K, K, N, G, N, T, A, Y, I, ...  \n",
       "989  (G, S, G, V, I, I, S, S, D, G, Y, V, V, T, N, ...  \n",
       "..                                                 ...  \n",
       "839  (L, G, S, G, I, V, F, D, D, K, G, H, V, V, T, ...  \n",
       "863  (P, F, G, F, P, F, P, F, P, D, G, G, E, A, P, ...  \n",
       "891  (G, T, G, F, A, V, S, P, D, L, I, V, T, N, A, ...  \n",
       "943  (Q, G, C, G, V, I, I, T, P, T, G, Y, V, L, T, ...  \n",
       "999  (G, S, G, F, I, V, D, T, A, G, V, V, V, T, N, ...  \n",
       "\n",
       "[756 rows x 5 columns]"
      ]
     },
     "execution_count": 146,
     "metadata": {},
     "output_type": "execute_result"
    }
   ],
   "source": [
    "train_df"
   ]
  },
  {
   "cell_type": "code",
   "execution_count": 148,
   "metadata": {},
   "outputs": [],
   "source": [
    "class ProteinDataset(Dataset):\n",
    "\n",
    "\n",
    "    def __init__(self, raw_data: str = 'Sequences.fasta', labelled: bool = True):\n",
    "        self.raw_data = raw_data\n",
    "        self.labelled = labelled\n",
    "        self.load_data()\n",
    "\n",
    "        if labelled:\n",
    "            self.create_dataset_split()\n",
    "\n",
    "    def load_data(self):\n",
    "        if self.labelled:\n",
    "            labelled_sequences = [{\n",
    "                        'ID' : i.id,\n",
    "                        'Group_ID' : i.id.split('_')[0],\n",
    "                        'Number_ID' : i.id.split('_')[1],\n",
    "                        'Sequence Length' : len(i.seq),\n",
    "                        'Sequence' : i.seq\n",
    "                        }\n",
    "                        for i in SeqIO.parse(self.raw_data, 'fasta')]\n",
    "            print(f'Number of labelled sequences: {len(labelled_sequences)}')\n",
    "            self.data_df = pd.DataFrame(labelled_sequences)\n",
    "        else:\n",
    "            pred_sequences = [{'ID' : i.id,\n",
    "                        'Sequence Length' : len(i.seq),\n",
    "                            'Sequence' : i.seq}\n",
    "                            for i in SeqIO.parse('Predictions.fasta', 'fasta')]\n",
    "            print(f'Number of pred sequences: {len(pred_sequences)}')\n",
    "            self.data_df = pd.DataFrame(pred_sequences)\n",
    "\n",
    "    def create_dataset_split(self):\n",
    "        # Splitting dataset, any class with <3 instances added to train_df\n",
    "        filtered_df = self.data_df[self.data_df['Group_ID'].isin(['A','B','C'])]\n",
    "        self.train_df, self.eval_df = train_test_split(filtered_df, shuffle=True, stratify=filtered_df['Group_ID'])\n",
    "        self.train_df = pd.concat([self.train_df, self.data_df[~self.data_df['Group_ID'].isin(['A','B','C'])]])\n"
   ]
  },
  {
   "cell_type": "markdown",
   "metadata": {},
   "source": [
    "## Model\n",
    "\n",
    "Selected pretrained model from HuggingFace.\n",
    "\n",
    "Paper is in preprint https://arxiv.org/abs/2205.05789 [1]\n",
    "\n",
    "Small version has 1/3 parameters of the current most popular HuggingFace model.\n",
    "\n",
    "Given time constraints a smaller model is a big pro!\n",
    "\n",
    "[1] RITA: a Study on Scaling Up Generative Protein Sequence Models. Hesslow et al., 2022.\n"
   ]
  },
  {
   "cell_type": "code",
   "execution_count": 109,
   "metadata": {},
   "outputs": [
    {
     "name": "stderr",
     "output_type": "stream",
     "text": [
      "Explicitly passing a `revision` is encouraged when loading a configuration with custom code to ensure no malicious code has been contributed in a newer revision.\n",
      "Explicitly passing a `revision` is encouraged when loading a model with custom code to ensure no malicious code has been contributed in a newer revision.\n"
     ]
    },
    {
     "data": {
      "application/vnd.jupyter.widget-view+json": {
       "model_id": "1d91ee215eeb4e54bede85d8edafd90e",
       "version_major": 2,
       "version_minor": 0
      },
      "text/plain": [
       "Downloading:   0%|          | 0.00/167 [00:00<?, ?B/s]"
      ]
     },
     "metadata": {},
     "output_type": "display_data"
    },
    {
     "data": {
      "application/vnd.jupyter.widget-view+json": {
       "model_id": "1deb32c573574680aeb5fec7aeb64f9f",
       "version_major": 2,
       "version_minor": 0
      },
      "text/plain": [
       "Downloading:   0%|          | 0.00/5.85k [00:00<?, ?B/s]"
      ]
     },
     "metadata": {},
     "output_type": "display_data"
    },
    {
     "data": {
      "application/vnd.jupyter.widget-view+json": {
       "model_id": "49b7870de91444b3a87cf47f72e764e1",
       "version_major": 2,
       "version_minor": 0
      },
      "text/plain": [
       "Downloading:   0%|          | 0.00/2.00 [00:00<?, ?B/s]"
      ]
     },
     "metadata": {},
     "output_type": "display_data"
    }
   ],
   "source": [
    "from transformers import AutoModel, AutoModelForCausalLM, AutoTokenizer\n",
    "model = AutoModelForCausalLM.from_pretrained(\"lightonai/RITA_s\", trust_remote_code=True)\n",
    "tokenizer = AutoTokenizer.from_pretrained(\"lightonai/RITA_s\")"
   ]
  },
  {
   "cell_type": "code",
   "execution_count": null,
   "metadata": {},
   "outputs": [],
   "source": []
  },
  {
   "cell_type": "code",
   "execution_count": null,
   "metadata": {},
   "outputs": [],
   "source": [
    "\n",
    "# Tokens for creating the decoder_input_ids from the labels\n",
    "model.config.decoder_start_token_id = processor.tokenizer.cls_token_id\n",
    "model.config.pad_token_id = processor.tokenizer.pad_token_id\n",
    "# Vocab size is the number of integers 0-9\n",
    "model.config.vocab_size = 10\n",
    "training_args = Seq2SeqTrainingArguments(\n",
    "    predict_with_generate=True,\n",
    "    evaluation_strategy=\"steps\",\n",
    "    per_device_train_batch_size=8,\n",
    "    per_device_eval_batch_size=8,\n",
    "    output_dir=\"results/\",\n",
    "    logging_steps=2,\n",
    "    save_steps=1000,\n",
    "    num_train_epochs=2,\n",
    "    eval_steps=200,\n",
    ")\n",
    "### HUGGING FACE\n",
    "\n",
    "metric = load_metric(\"accuracy\")\n",
    "\n",
    "def compute_metrics(eval_pred):\n",
    "    logits, labels = eval_pred\n",
    "    predictions = np.argmax(logits, axis=-1)\n",
    "    return metric.compute(predictions=predictions, references=labels)\n",
    "trainer = Seq2SeqTrainer(\n",
    "    model=model,\n",
    "    tokenizer=processor.feature_extractor,\n",
    "    args=training_args,\n",
    "    compute_metrics=compute_metrics,\n",
    "    train_dataset=train_dataset,\n",
    "    eval_dataset=test_dataset,\n",
    "    data_collator=default_data_collator,\n",
    ")\n",
    "trainer.train()"
   ]
  }
 ],
 "metadata": {
  "kernelspec": {
   "display_name": "Python 3.9.13 ('base')",
   "language": "python",
   "name": "python3"
  },
  "language_info": {
   "codemirror_mode": {
    "name": "ipython",
    "version": 3
   },
   "file_extension": ".py",
   "mimetype": "text/x-python",
   "name": "python",
   "nbconvert_exporter": "python",
   "pygments_lexer": "ipython3",
   "version": "3.9.13"
  },
  "orig_nbformat": 4,
  "vscode": {
   "interpreter": {
    "hash": "2fc0ea5a1e9e76f4e43521cfbf8502dc34ed22083c8204b9bca502883f1d045c"
   }
  }
 },
 "nbformat": 4,
 "nbformat_minor": 2
}
